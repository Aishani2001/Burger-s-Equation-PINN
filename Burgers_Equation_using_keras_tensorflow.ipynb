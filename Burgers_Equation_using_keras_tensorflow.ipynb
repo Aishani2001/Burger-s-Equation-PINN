{
  "nbformat": 4,
  "nbformat_minor": 0,
  "metadata": {
    "colab": {
      "name": "Burgers Equation using keras tensorflow.ipynb",
      "provenance": []
    },
    "kernelspec": {
      "name": "python3",
      "display_name": "Python 3"
    },
    "language_info": {
      "name": "python"
    }
  },
  "cells": [
    {
      "cell_type": "code",
      "metadata": {
        "id": "5bbyoJ8rRIR0"
      },
      "source": [
        "import tensorflow as tf\n",
        "import numpy as np\n",
        "import matplotlib.pyplot as plt\n",
        "import scipy\n",
        "from scipy import optimize\n",
        "from matplotlib.gridspec import GridSpec"
      ],
      "execution_count": 22,
      "outputs": []
    },
    {
      "cell_type": "code",
      "metadata": {
        "id": "lOngN4W-RrC9"
      },
      "source": [
        "num_train_samples=1000\n",
        "num_test_samples=1000\n",
        "#kinematic viscoscity\n",
        "nu= 0.01/np.pi"
      ],
      "execution_count": 23,
      "outputs": []
    },
    {
      "cell_type": "code",
      "metadata": {
        "id": "OWHK-4AgSFHq"
      },
      "source": [
        "#First we build the network class. For this we use a network with two inputs. Input size is of the form (t,x). There is a single output of the shape u(t,x). I have made a network with three hidden layers having 16, 32 and 64 nodes.\n",
        "class Network:\n",
        "  @classmethod\n",
        "  def build(cls, num_inputs=2,layers=[16,32,64],activation='tanh', num_outputs=1):\n",
        "    #activation function used in the hidden layers is tanh. it has range from -1 to 1. the return type will be a keras model.\n",
        "    inputs= tf.keras.layers.Input(shape=(num_inputs,))#input layer. tf.keras.Input instantiates the keras tensor. return type will be tensors.\n",
        "    #hidden layers\n",
        "    x=inputs\n",
        "    for layer in layers:\n",
        "      x=tf.keras.layers.Dense(layer, activation=activation)(x)\n",
        "    #output layer\n",
        "    outputs=tf.keras.layers.Dense(num_outputs)(x)\n",
        "    return tf.keras.models.Model(inputs=inputs,outputs=outputs)\n"
      ],
      "execution_count": 24,
      "outputs": []
    },
    {
      "cell_type": "code",
      "metadata": {
        "colab": {
          "base_uri": "https://localhost:8080/"
        },
        "id": "KfqfilW9YUl_",
        "outputId": "6f9b2f7c-c9be-49f2-b2ba-687715199231"
      },
      "source": [
        "#building model using network class\n",
        "network=Network.build()\n",
        "network.summary()"
      ],
      "execution_count": 25,
      "outputs": [
        {
          "output_type": "stream",
          "text": [
            "Model: \"model_2\"\n",
            "_________________________________________________________________\n",
            "Layer (type)                 Output Shape              Param #   \n",
            "=================================================================\n",
            "input_5 (InputLayer)         [(None, 2)]               0         \n",
            "_________________________________________________________________\n",
            "dense_4 (Dense)              (None, 16)                48        \n",
            "_________________________________________________________________\n",
            "dense_5 (Dense)              (None, 32)                544       \n",
            "_________________________________________________________________\n",
            "dense_6 (Dense)              (None, 64)                2112      \n",
            "_________________________________________________________________\n",
            "dense_7 (Dense)              (None, 1)                 65        \n",
            "=================================================================\n",
            "Total params: 2,769\n",
            "Trainable params: 2,769\n",
            "Non-trainable params: 0\n",
            "_________________________________________________________________\n"
          ],
          "name": "stdout"
        }
      ]
    },
    {
      "cell_type": "code",
      "metadata": {
        "id": "cdvfCwafYmOr"
      },
      "source": [
        "#Now we build the gradient class for our Burger's Equation. This class will be used to compute the first and second order derivatives. model: keras network model. input:x variable, output:output,1st derivative,2nd derivative\n",
        "class GradientLayer(tf.keras.layers.Layer):\n",
        "  def __init__(self,model,**kwargs):\n",
        "    self.model=model\n",
        "    super().__init__(**kwargs)\n",
        "  def call(self,x):\n",
        "    #We use Gradient tape to compute the gradients.\n",
        "    with tf.GradientTape() as g:\n",
        "      g.watch(x) #Tensors can be manually watched by invoking the watch method on this context manager if theyre not created by Variable.\n",
        "      #nesting Gradient tape to find the double derivative\n",
        "      with tf.GradientTape() as gg: \n",
        "        gg.watch(x)\n",
        "        u = self.model(x)\n",
        "      du_dtx = gg.batch_jacobian(u, x) # function is useful when target[i,...] is independent of source[j,...] for j != i\n",
        "      du_dt = du_dtx[..., 0]  # du/dt du/dx\n",
        "      du_dx = du_dtx[..., 1]\n",
        "    d2u_dx2 = g.batch_jacobian(du_dx, x)[..., 1]#du/dt d2u/dx2\n",
        "    return u, du_dt, du_dx, d2u_dx2"
      ],
      "execution_count": 26,
      "outputs": []
    },
    {
      "cell_type": "code",
      "metadata": {
        "id": "hbX7R17ocg5E"
      },
      "source": [
        "#Now we build our PINN class for the equation.\n",
        "#Attributes:\n",
        "#network: keras network model with input (t, x) and output u(t, x).\n",
        "#nu: kinematic viscosity.\n",
        "#grads: gradient layer.\n",
        "class PINN:\n",
        "  def __init__(self, network, nu):\n",
        "        self.network = network\n",
        "        self.nu = nu\n",
        "        self.grads = GradientLayer(self.network)\n",
        "  def build(self):\n",
        "        \"\"\"\n",
        "        Build a PINN model for Burgers' equation.\n",
        "        Returns:\n",
        "            PINN model for the projectile motion with\n",
        "                input: [ (t, x) relative to equation,\n",
        "                         (t=0, x) relative to initial condition,\n",
        "                         (t, x=bounds) relative to boundary condition. Here x=-1 and x=1 will be the boundary conditions. ],\n",
        "                output: [ u(t,x) relative to equation (must be zero),\n",
        "                          u(t=0, x) relative to initial condition,\n",
        "                          u(t, x=bounds) relative to boundary condition ]\n",
        "        \"\"\"\n",
        "        # equation input: (t, x)\n",
        "        tx_eqn = tf.keras.layers.Input(shape=(2,))\n",
        "        # initial condition input: (t=0, x)\n",
        "        tx_ini = tf.keras.layers.Input(shape=(2,))\n",
        "        # boundary condition input: (t, x=-1) or (t, x=+1)\n",
        "        tx_bnd = tf.keras.layers.Input(shape=(2,))\n",
        "\n",
        "        # compute gradients. we use the gradient class previously built.\n",
        "        u, du_dt, du_dx, d2u_dx2 = self.grads(tx_eqn)\n",
        "\n",
        "        # equation output being zero\n",
        "        u_eqn = du_dt + u*du_dx - (self.nu)*d2u_dx2\n",
        "        # initial condition output for t =0, x=x\n",
        "        u_ini = self.network(tx_ini) #passing thru the inner network i.e. hidden layers.\n",
        "        # boundary condition output for x=-1 and x=1 and t=t\n",
        "        u_bnd = self.network(tx_bnd)\n",
        "\n",
        "        # build the PINN model for Burgers' equation\n",
        "        return tf.keras.models.Model(inputs=[tx_eqn, tx_ini, tx_bnd], outputs=[u_eqn, u_ini, u_bnd])\n",
        "  "
      ],
      "execution_count": 27,
      "outputs": []
    },
    {
      "cell_type": "code",
      "metadata": {
        "id": "FqsT7lUidoI3"
      },
      "source": [
        "#Lets use the PINN class to build our model now"
      ],
      "execution_count": 28,
      "outputs": []
    },
    {
      "cell_type": "code",
      "metadata": {
        "id": "UolmjSXCMyOk"
      },
      "source": [
        "pinn=PINN(network,nu).build()"
      ],
      "execution_count": 29,
      "outputs": []
    },
    {
      "cell_type": "code",
      "metadata": {
        "colab": {
          "base_uri": "https://localhost:8080/"
        },
        "id": "wLTCmjB3NGEU",
        "outputId": "84991a37-d366-49bf-c213-7ba023a205c5"
      },
      "source": [
        "pinn.summary()"
      ],
      "execution_count": 30,
      "outputs": [
        {
          "output_type": "stream",
          "text": [
            "Model: \"model_3\"\n",
            "__________________________________________________________________________________________________\n",
            "Layer (type)                    Output Shape         Param #     Connected to                     \n",
            "==================================================================================================\n",
            "input_6 (InputLayer)            [(None, 2)]          0                                            \n",
            "__________________________________________________________________________________________________\n",
            "gradient_layer_1 (GradientLayer ((None, 1), (None, 1 2769        input_6[0][0]                    \n",
            "__________________________________________________________________________________________________\n",
            "tf.math.multiply_2 (TFOpLambda) (None, 1)            0           gradient_layer_1[0][0]           \n",
            "                                                                 gradient_layer_1[0][2]           \n",
            "__________________________________________________________________________________________________\n",
            "tf.__operators__.add_1 (TFOpLam (None, 1)            0           gradient_layer_1[0][1]           \n",
            "                                                                 tf.math.multiply_2[0][0]         \n",
            "__________________________________________________________________________________________________\n",
            "tf.math.multiply_3 (TFOpLambda) (None, 1)            0           gradient_layer_1[0][3]           \n",
            "__________________________________________________________________________________________________\n",
            "input_7 (InputLayer)            [(None, 2)]          0                                            \n",
            "__________________________________________________________________________________________________\n",
            "input_8 (InputLayer)            [(None, 2)]          0                                            \n",
            "__________________________________________________________________________________________________\n",
            "tf.math.subtract_1 (TFOpLambda) (None, 1)            0           tf.__operators__.add_1[0][0]     \n",
            "                                                                 tf.math.multiply_3[0][0]         \n",
            "__________________________________________________________________________________________________\n",
            "model_2 (Functional)            (None, 1)            2769        input_7[0][0]                    \n",
            "                                                                 input_8[0][0]                    \n",
            "==================================================================================================\n",
            "Total params: 2,769\n",
            "Trainable params: 2,769\n",
            "Non-trainable params: 0\n",
            "__________________________________________________________________________________________________\n"
          ],
          "name": "stdout"
        }
      ]
    },
    {
      "cell_type": "code",
      "metadata": {
        "id": "9MsJOHn1NL-q"
      },
      "source": [
        "#creating training input\n",
        "tx_eqn=np.random.rand(num_train_samples,2) #t_eqn = 0 to 1\n",
        "tx_eqn[...,1]=2*tx_eqn[...,1]-1 #x_eqn -1 to 1\n",
        "tx_ini=2*np.random.rand(num_train_samples,2)-1 #x_ini -1 to 1\n",
        "tx_ini[...,0]=0 #t_ini=0\n",
        "tx_bnd=np.random.rand(num_train_samples,2) #t_bnd 0 to 1\n",
        "tx_bnd[...,1]=2*np.round(tx_bnd[...,1])-1 #x_bnd = -1 or +1\n",
        "\n",
        "#creating training output\n",
        "u_eqn=np.zeros((num_train_samples,1)) #u_eqn=0\n",
        "u_ini = np.sin(-np.pi * tx_ini[..., 1, np.newaxis])    # u_ini = -sin(pi*x_ini)\n",
        "u_bnd = np.zeros((num_train_samples, 1))               # u_bnd = 0"
      ],
      "execution_count": 31,
      "outputs": []
    },
    {
      "cell_type": "code",
      "metadata": {
        "id": "MlHFbmDuPsb7"
      },
      "source": [
        "'''now we impkement the limited memory BFGS algorithm for optimization. \n",
        "the bfgs is good for optimising non-linear problems which are unconstrained.\n",
        "the limited memory BFGS is good when the num of variables if large(about 1000).\n",
        "'''\n",
        "\n",
        "class L_BFGS_B:\n",
        "    \"\"\"\n",
        "    Optimize the keras network model using L-BFGS-B algorithm.\n",
        "    Attributes:\n",
        "        model: optimization target model.\n",
        "        samples: training samples.\n",
        "        factr: convergence condition. typical values for factr are: 1e12 for low accuracy;\n",
        "               1e7 for moderate accuracy; 10.0 for extremely high accuracy.\n",
        "        m: maximum number of variable metric corrections used to define the limited memory matrix.\n",
        "        maxls: maximum number of line search steps (per iteration).\n",
        "        maxiter: maximum number of iterations.\n",
        "        metris: log metrics\n",
        "        progbar: progress bar\n",
        "    \"\"\"\n",
        "\n",
        "    def __init__(self, model, x_train, y_train, factr=1e7, m=50, maxls=50, maxiter=5000):\n",
        "        \"\"\"\n",
        "        Args:\n",
        "            model: optimization target model.\n",
        "            samples: training samples.\n",
        "            factr: convergence condition. typical values for factr are: 1e12 for low accuracy;\n",
        "                   1e7 for moderate accuracy; 10.0 for extremely high accuracy.\n",
        "            m: maximum number of variable metric corrections used to define the limited memory matrix.\n",
        "            maxls: maximum number of line search steps (per iteration).\n",
        "            maxiter: maximum number of iterations.\n",
        "        \"\"\"\n",
        "\n",
        "        # set attributes\n",
        "        self.model = model\n",
        "        self.x_train = [ tf.constant(x, dtype=tf.float32) for x in x_train ]\n",
        "        self.y_train = [ tf.constant(y, dtype=tf.float32) for y in y_train ]\n",
        "        self.factr = factr\n",
        "        self.m = m\n",
        "        self.maxls = maxls\n",
        "        self.maxiter = maxiter\n",
        "        self.metrics = ['loss']\n",
        "        # initialize the progress bar\n",
        "        self.progbar = tf.keras.callbacks.ProgbarLogger(\n",
        "            count_mode='steps', stateful_metrics=self.metrics)\n",
        "        self.progbar.set_params( {\n",
        "            'verbose':1, 'epochs':1, 'steps':self.maxiter, 'metrics':self.metrics})\n",
        "\n",
        "    def set_weights(self, flat_weights):\n",
        "        \"\"\"\n",
        "        Set weights to the model.\n",
        "        Args:\n",
        "            flat_weights: flatten weights.\n",
        "        \"\"\"\n",
        "\n",
        "        # get model weights\n",
        "        shapes = [ w.shape for w in self.model.get_weights() ]\n",
        "        # compute splitting indices\n",
        "        split_ids = np.cumsum([ np.prod(shape) for shape in [0] + shapes ])\n",
        "        # reshape weights\n",
        "        weights = [ flat_weights[from_id:to_id].reshape(shape)\n",
        "            for from_id, to_id, shape in zip(split_ids[:-1], split_ids[1:], shapes) ]\n",
        "        # set weights to the model\n",
        "        self.model.set_weights(weights)\n",
        "\n",
        "    @tf.function\n",
        "    def tf_evaluate(self, x, y):\n",
        "        \"\"\"\n",
        "        Evaluate loss and gradients for weights as tf.Tensor.\n",
        "        Args:\n",
        "            x: input data.\n",
        "        Returns:\n",
        "            loss and gradients for weights as tf.Tensor.\n",
        "        \"\"\"\n",
        "\n",
        "        with tf.GradientTape() as g:\n",
        "            loss = tf.reduce_mean(tf.keras.losses.mse(self.model(x), y))\n",
        "        grads = g.gradient(loss, self.model.trainable_variables)\n",
        "        return loss, grads\n",
        "\n",
        "    def evaluate(self, weights):\n",
        "        \"\"\"\n",
        "        Evaluate loss and gradients for weights as ndarray.\n",
        "        Args:\n",
        "            weights: flatten weights.\n",
        "        Returns:\n",
        "            loss and gradients for weights as ndarray.\n",
        "        \"\"\"\n",
        "\n",
        "        # update weights\n",
        "        self.set_weights(weights)\n",
        "        # compute loss and gradients for weights\n",
        "        loss, grads = self.tf_evaluate(self.x_train, self.y_train)\n",
        "        # convert tf.Tensor to flatten ndarray\n",
        "        loss = loss.numpy().astype('float64')\n",
        "        grads = np.concatenate([ g.numpy().flatten() for g in grads ]).astype('float64')\n",
        "\n",
        "        return loss, grads\n",
        "\n",
        "    def callback(self, weights):\n",
        "        \"\"\"\n",
        "        Callback that prints the progress to stdout.\n",
        "        Args:\n",
        "            weights: flatten weights.\n",
        "        \"\"\"\n",
        "        self.progbar.on_batch_begin(0)\n",
        "        loss, _ = self.evaluate(weights)\n",
        "        self.progbar.on_batch_end(0, logs=dict(zip(self.metrics, [loss])))\n",
        "\n",
        "    def fit(self):\n",
        "        \"\"\"\n",
        "        Train the model using L-BFGS-B algorithm.\n",
        "        \"\"\"\n",
        "\n",
        "        # get initial weights as a flat vector\n",
        "        initial_weights = np.concatenate(\n",
        "            [ w.flatten() for w in self.model.get_weights() ])\n",
        "        # optimize the weight vector\n",
        "        print('Optimizer: L-BFGS-B (maxiter={})'.format(self.maxiter))\n",
        "        self.progbar.on_train_begin()\n",
        "        self.progbar.on_epoch_begin(1)\n",
        "        scipy.optimize.fmin_l_bfgs_b(func=self.evaluate, x0=initial_weights,\n",
        "            factr=self.factr, m=self.m, maxls=self.maxls, maxiter=self.maxiter,\n",
        "            callback=self.callback)\n",
        "        self.progbar.on_epoch_end(1)\n",
        "        self.progbar.on_train_end()"
      ],
      "execution_count": 32,
      "outputs": []
    },
    {
      "cell_type": "code",
      "metadata": {
        "colab": {
          "base_uri": "https://localhost:8080/"
        },
        "id": "w7jnFaopQWLU",
        "outputId": "83f4769d-9a14-4756-8ad5-995a94641203"
      },
      "source": [
        "#now let us evaluate using the l-bfgs-b algorithm\n",
        "x_train=[tx_eqn,tx_ini,tx_bnd]#training input\n",
        "y_train=[u_eqn,u_ini,u_bnd]#training output\n",
        "lbfgs= L_BFGS_B(model=pinn,x_train=x_train,y_train=y_train)\n",
        "lbfgs.fit()"
      ],
      "execution_count": 33,
      "outputs": [
        {
          "output_type": "stream",
          "text": [
            "Optimizer: L-BFGS-B (maxiter=5000)\n",
            "5000/5000 [==============================] - 58s 12ms/step\n"
          ],
          "name": "stdout"
        }
      ]
    },
    {
      "cell_type": "code",
      "metadata": {
        "colab": {
          "base_uri": "https://localhost:8080/",
          "height": 297
        },
        "id": "K8V_uaMjRFHA",
        "outputId": "21fdd202-751b-42f3-a0a2-f2b0e4876d07"
      },
      "source": [
        "'''Now we will be visualising our results. \n",
        "'''\n",
        "# predict u(t,x) distribution\n",
        "t_flat = np.linspace(0, 1, num_test_samples)\n",
        "x_flat = np.linspace(-1, 1, num_test_samples)\n",
        "t, x = np.meshgrid(t_flat, x_flat)\n",
        "tx = np.stack([t.flatten(), x.flatten()], axis=-1)\n",
        "u = network.predict(tx, batch_size=num_test_samples)\n",
        "u = u.reshape(t.shape)\n",
        "\n",
        "# plot u(t,x) distribution as a color-map\n",
        "fig = plt.figure(figsize=(7,4))\n",
        "gs = GridSpec(2, 5)\n",
        "plt.subplot(gs[0, :])\n",
        "plt.pcolormesh(t, x, u)\n",
        "plt.xlabel('t')\n",
        "plt.ylabel('x')\n",
        "cbar = plt.colorbar(pad=0.05, aspect=10)\n",
        "cbar.set_label('u(t,x)')\n",
        "cbar.mappable.set_clim(-1, 1)\n",
        "# plot u(t=const, x) cross-sections\n",
        "t_cross_sections = [0,0.25, 0.5,0.75,1]\n",
        "for i, t_cs in enumerate(t_cross_sections):\n",
        "  plt.subplot(gs[1, i])\n",
        "  tx = np.stack([np.full(t_flat.shape, t_cs), x_flat], axis=-1)\n",
        "  u = network.predict(tx, batch_size=num_test_samples)\n",
        "  plt.plot(x_flat, u)\n",
        "  plt.title('t={}'.format(t_cs))\n",
        "  plt.xlabel('x')\n",
        "  plt.ylabel('u(t,x)')\n",
        "plt.tight_layout()\n",
        "plt.show()\n",
        "    "
      ],
      "execution_count": 34,
      "outputs": [
        {
          "output_type": "display_data",
          "data": {
            "image/png": "[encoded data removed]",
            "text/plain": [
              "<Figure size 504x288 with 7 Axes>"
            ]
          },
          "metadata": {
            "tags": [],
            "needs_background": "light"
          }
        }
      ]
    },
    {
      "cell_type": "code",
      "metadata": {
        "colab": {
          "base_uri": "https://localhost:8080/",
          "height": 34
        },
        "id": "qMI4XqZCR81v",
        "outputId": "39671c42-5259-4ef0-92b1-78c5cfde1170"
      },
      "source": [
        "plt.savefig('output.png')\n"
      ],
      "execution_count": 35,
      "outputs": [
        {
          "output_type": "display_data",
          "data": {
            "text/plain": [
              "<Figure size 432x288 with 0 Axes>"
            ]
          },
          "metadata": {
            "tags": []
          }
        }
      ]
    },
    {
      "cell_type": "code",
      "metadata": {
        "colab": {
          "base_uri": "https://localhost:8080/",
          "height": 17
        },
        "id": "lvIcM__wS1KI",
        "outputId": "9e9a32bc-c13e-4a5d-ec7b-a72b03c6d334"
      },
      "source": [
        "from google.colab import files\n",
        "files.download('output.png')"
      ],
      "execution_count": 36,
      "outputs": [
        {
          "output_type": "display_data",
          "data": {
            "application/javascript": [
              "\n",
              "    async function download(id, filename, size) {\n",
              "      if (!google.colab.kernel.accessAllowed) {\n",
              "        return;\n",
              "      }\n",
              "      const div = document.createElement('div');\n",
              "      const label = document.createElement('label');\n",
              "      label.textContent = `Downloading \"${filename}\": `;\n",
              "      div.appendChild(label);\n",
              "      const progress = document.createElement('progress');\n",
              "      progress.max = size;\n",
              "      div.appendChild(progress);\n",
              "      document.body.appendChild(div);\n",
              "\n",
              "      const buffers = [];\n",
              "      let downloaded = 0;\n",
              "\n",
              "      const channel = await google.colab.kernel.comms.open(id);\n",
              "      // Send a message to notify the kernel that we're ready.\n",
              "      channel.send({})\n",
              "\n",
              "      for await (const message of channel.messages) {\n",
              "        // Send a message to notify the kernel that we're ready.\n",
              "        channel.send({})\n",
              "        if (message.buffers) {\n",
              "          for (const buffer of message.buffers) {\n",
              "            buffers.push(buffer);\n",
              "            downloaded += buffer.byteLength;\n",
              "            progress.value = downloaded;\n",
              "          }\n",
              "        }\n",
              "      }\n",
              "      const blob = new Blob(buffers, {type: 'application/binary'});\n",
              "      const a = document.createElement('a');\n",
              "      a.href = window.URL.createObjectURL(blob);\n",
              "      a.download = filename;\n",
              "      div.appendChild(a);\n",
              "      a.click();\n",
              "      div.remove();\n",
              "    }\n",
              "  "
            ],
            "text/plain": [
              "<IPython.core.display.Javascript object>"
            ]
          },
          "metadata": {
            "tags": []
          }
        },
        {
          "output_type": "display_data",
          "data": {
            "application/javascript": [
              "download(\"download_3e3f71c2-c747-4b08-ad64-eca7d704b28c\", \"output.jpg\", 1273)"
            ],
            "text/plain": [
              "<IPython.core.display.Javascript object>"
            ]
          },
          "metadata": {
            "tags": []
          }
        }
      ]
    }
  ]
}
